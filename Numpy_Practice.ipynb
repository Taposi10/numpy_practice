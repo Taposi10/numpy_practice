{
 "cells": [
  {
   "cell_type": "code",
   "execution_count": 2,
   "id": "730a0494-2d9f-4d3d-889e-5c2deba3112d",
   "metadata": {},
   "outputs": [],
   "source": [
    "import numpy as np\n",
    "import pandas as pd\n",
    "import matplotlib.pyplot as plt\n",
    "\n"
   ]
  },
  {
   "cell_type": "code",
   "execution_count": 3,
   "id": "b2d2a03a-0818-4ccb-9f6b-506c8f853559",
   "metadata": {},
   "outputs": [],
   "source": [
    "#Basic of NumPy\n",
    "#Numpy creating arrays\n",
    "#numpy Array Indexinng\n",
    "#Array Slicing\n",
    "#copy vs view\n",
    "#shape vs reshape\n",
    "#Array iterating\n",
    "#Array sort\n",
    "#Array join\n",
    "#Array split\n",
    "#Array filter\n",
    "#Array Search\n",
    "#Numpy methods:reshape(),MAX(),MIN(),ARGMAX(),ARGMIN()\n",
    "#Random function:rand(),randn(),randint()"
   ]
  },
  {
   "cell_type": "code",
   "execution_count": 7,
   "id": "057b4250-2253-4586-b4fe-c6a97996d3c1",
   "metadata": {},
   "outputs": [],
   "source": [
    "#Creating_Arrays\n"
   ]
  },
  {
   "cell_type": "code",
   "execution_count": 9,
   "id": "bcbba84b-23d0-447d-931d-180533564609",
   "metadata": {},
   "outputs": [
    {
     "data": {
      "text/plain": [
       "array([ 1,  2,  3,  4,  5,  6,  7,  8,  9, 10])"
      ]
     },
     "execution_count": 9,
     "metadata": {},
     "output_type": "execute_result"
    }
   ],
   "source": [
    "list=[1,2,3,4,5,6,7,8,9,10]\n",
    "array1=np.array(list)\n",
    "array1"
   ]
  },
  {
   "cell_type": "code",
   "execution_count": 10,
   "id": "dac2006a-cbbe-4d4e-9b97-c33cc8c095b9",
   "metadata": {},
   "outputs": [
    {
     "data": {
      "text/plain": [
       "array([[ 0,  1,  2,  3,  4,  5,  6,  7,  8,  9],\n",
       "       [10, 11, 12, 13, 14, 15, 16, 17, 18, 19],\n",
       "       [20, 21, 22, 23, 24, 25, 26, 27, 28, 29],\n",
       "       [30, 31, 32, 33, 34, 35, 36, 37, 38, 39],\n",
       "       [40, 41, 42, 43, 44, 45, 46, 47, 48, 49],\n",
       "       [50, 51, 52, 53, 54, 55, 56, 57, 58, 59],\n",
       "       [60, 61, 62, 63, 64, 65, 66, 67, 68, 69],\n",
       "       [70, 71, 72, 73, 74, 75, 76, 77, 78, 79],\n",
       "       [80, 81, 82, 83, 84, 85, 86, 87, 88, 89],\n",
       "       [90, 91, 92, 93, 94, 95, 96, 97, 98, 99]])"
      ]
     },
     "execution_count": 10,
     "metadata": {},
     "output_type": "execute_result"
    }
   ],
   "source": [
    "np.arange(100).reshape(10,10)"
   ]
  },
  {
   "cell_type": "code",
   "execution_count": 12,
   "id": "42267b18-43aa-46ce-a0a0-9b432c0faed3",
   "metadata": {},
   "outputs": [
    {
     "data": {
      "text/plain": [
       "(array([1.        , 1.01010101, 1.02020202, 1.03030303, 1.04040404,\n",
       "        1.05050505, 1.06060606, 1.07070707, 1.08080808, 1.09090909,\n",
       "        1.1010101 , 1.11111111, 1.12121212, 1.13131313, 1.14141414,\n",
       "        1.15151515, 1.16161616, 1.17171717, 1.18181818, 1.19191919,\n",
       "        1.2020202 , 1.21212121, 1.22222222, 1.23232323, 1.24242424,\n",
       "        1.25252525, 1.26262626, 1.27272727, 1.28282828, 1.29292929,\n",
       "        1.3030303 , 1.31313131, 1.32323232, 1.33333333, 1.34343434,\n",
       "        1.35353535, 1.36363636, 1.37373737, 1.38383838, 1.39393939,\n",
       "        1.4040404 , 1.41414141, 1.42424242, 1.43434343, 1.44444444,\n",
       "        1.45454545, 1.46464646, 1.47474747, 1.48484848, 1.49494949,\n",
       "        1.50505051, 1.51515152, 1.52525253, 1.53535354, 1.54545455,\n",
       "        1.55555556, 1.56565657, 1.57575758, 1.58585859, 1.5959596 ,\n",
       "        1.60606061, 1.61616162, 1.62626263, 1.63636364, 1.64646465,\n",
       "        1.65656566, 1.66666667, 1.67676768, 1.68686869, 1.6969697 ,\n",
       "        1.70707071, 1.71717172, 1.72727273, 1.73737374, 1.74747475,\n",
       "        1.75757576, 1.76767677, 1.77777778, 1.78787879, 1.7979798 ,\n",
       "        1.80808081, 1.81818182, 1.82828283, 1.83838384, 1.84848485,\n",
       "        1.85858586, 1.86868687, 1.87878788, 1.88888889, 1.8989899 ,\n",
       "        1.90909091, 1.91919192, 1.92929293, 1.93939394, 1.94949495,\n",
       "        1.95959596, 1.96969697, 1.97979798, 1.98989899, 2.        ]),\n",
       " 0.010101010101010102)"
      ]
     },
     "execution_count": 12,
     "metadata": {},
     "output_type": "execute_result"
    }
   ],
   "source": [
    "np.linspace(1,2,100,retstep=True)"
   ]
  },
  {
   "cell_type": "code",
   "execution_count": 13,
   "id": "7c7e1678-a8ae-4760-b451-6fa31d018656",
   "metadata": {},
   "outputs": [
    {
     "data": {
      "text/plain": [
       "array([0.22638609, 0.45321338, 0.20582676, 0.61972433, 0.87588151,\n",
       "       0.19370583, 0.47664571, 0.86529895, 0.97587241, 0.82764538])"
      ]
     },
     "execution_count": 13,
     "metadata": {},
     "output_type": "execute_result"
    }
   ],
   "source": [
    "np.random.rand(10)"
   ]
  },
  {
   "cell_type": "code",
   "execution_count": 16,
   "id": "4b786549-3e7d-4430-b15e-9ebaa66be583",
   "metadata": {},
   "outputs": [
    {
     "data": {
      "text/plain": [
       "array([0, 1, 1, 1, 0, 2, 0, 1, 0, 2, 1, 0, 1, 1, 1, 2, 1, 0, 2, 1, 0, 2,\n",
       "       1, 0, 0, 1, 1, 2, 2, 2, 2, 1, 0, 0, 2, 1, 0, 2, 1, 0, 1, 1, 0, 2,\n",
       "       2, 1, 0, 1, 0, 2])"
      ]
     },
     "execution_count": 16,
     "metadata": {},
     "output_type": "execute_result"
    }
   ],
   "source": [
    "np.random.randint(0,3,50)"
   ]
  },
  {
   "cell_type": "code",
   "execution_count": 17,
   "id": "3edd61fa-4239-4871-ac42-c5460250c26b",
   "metadata": {},
   "outputs": [
    {
     "data": {
      "text/plain": [
       "array([[ 0.47514615,  1.20501068,  0.95862796,  0.85749459],\n",
       "       [ 0.70795874, -1.34791891,  1.12629203, -2.00513798],\n",
       "       [ 1.21451095, -0.88673851,  0.49746306,  1.65187178],\n",
       "       [ 0.45468236,  1.41282043, -0.57812698, -0.09917383],\n",
       "       [-0.65184052, -2.0602138 , -0.19722234,  0.5725121 ],\n",
       "       [ 0.56388447, -0.23754564, -0.15629183,  0.15659675],\n",
       "       [ 0.41774267, -0.35343598,  0.08575985, -0.89626151],\n",
       "       [ 0.18130957, -0.47481352,  0.51565303, -0.73286574],\n",
       "       [-0.20493896, -0.7801676 , -1.47667646,  0.73408474],\n",
       "       [ 2.0806889 ,  1.62763627, -0.09219411,  1.1805593 ],\n",
       "       [-1.66901099,  0.19651409, -0.10009938,  0.59734273],\n",
       "       [-0.0371764 , -0.75358569,  0.08803383,  1.46943713],\n",
       "       [ 0.13144749,  0.41933362, -0.83043377,  0.37963506],\n",
       "       [-0.9082234 , -0.40976014,  0.60000175, -0.35024846],\n",
       "       [-0.14001792, -0.01040896,  1.07914965,  1.35501066],\n",
       "       [ 2.50070427,  1.83314888, -0.04373835, -0.8414639 ],\n",
       "       [ 1.79613435, -1.87354149, -1.04223577, -0.01568001],\n",
       "       [-0.37621641, -0.69747513,  0.53490617,  0.66541372],\n",
       "       [-1.12887869,  1.15943837, -0.74692456,  0.90571827],\n",
       "       [ 0.05275245,  0.10773251,  1.97925596, -0.09156051]])"
      ]
     },
     "execution_count": 17,
     "metadata": {},
     "output_type": "execute_result"
    }
   ],
   "source": [
    "np.random.randn(20,4)"
   ]
  },
  {
   "cell_type": "code",
   "execution_count": 24,
   "id": "e6f3ec00-9ea7-4f36-969c-d69fab2d9104",
   "metadata": {},
   "outputs": [
    {
     "data": {
      "text/plain": [
       "array([  1,   2,   3,   4,   5,   6,   7,   8,   9,  10,  11,  12,  13,\n",
       "        14,  15,  16,  17,  18,  19,  20,  21,  22,  23,  24,  25,  26,\n",
       "        27,  28,  29,  30,  31,  32,  33,  34,  35,  36,  37,  38,  39,\n",
       "        40,  41,  42,  43,  44,  45,  46,  47,  48,  49,  50,  51,  52,\n",
       "        53,  54,  55,  56,  57,  58,  59,  60,  61,  62,  63,  64,  65,\n",
       "        66,  67,  68,  69,  70,  71,  72,  73,  74,  75,  76,  77,  78,\n",
       "        79,  80,  81,  82,  83,  84,  85,  86,  87,  88,  89,  90,  91,\n",
       "        92,  93,  94,  95,  96,  97,  98,  99, 100])"
      ]
     },
     "execution_count": 24,
     "metadata": {},
     "output_type": "execute_result"
    }
   ],
   "source": [
    "array2=np.arange(1,101)\n",
    "array2"
   ]
  },
  {
   "cell_type": "code",
   "execution_count": 21,
   "id": "83d446e1-6153-4288-85b4-ffa15712183b",
   "metadata": {},
   "outputs": [
    {
     "data": {
      "text/plain": [
       "dtype('int32')"
      ]
     },
     "execution_count": 21,
     "metadata": {},
     "output_type": "execute_result"
    }
   ],
   "source": [
    "array2.dtype"
   ]
  },
  {
   "cell_type": "code",
   "execution_count": 25,
   "id": "422ebfb7-e075-41cb-8d5d-00069060335d",
   "metadata": {},
   "outputs": [
    {
     "data": {
      "text/plain": [
       "array([[  1,   2,   3,   4,   5,   6,   7,   8,   9,  10],\n",
       "       [ 11,  12,  13,  14,  15,  16,  17,  18,  19,  20],\n",
       "       [ 21,  22,  23,  24,  25,  26,  27,  28,  29,  30],\n",
       "       [ 31,  32,  33,  34,  35,  36,  37,  38,  39,  40],\n",
       "       [ 41,  42,  43,  44,  45,  46,  47,  48,  49,  50],\n",
       "       [ 51,  52,  53,  54,  55,  56,  57,  58,  59,  60],\n",
       "       [ 61,  62,  63,  64,  65,  66,  67,  68,  69,  70],\n",
       "       [ 71,  72,  73,  74,  75,  76,  77,  78,  79,  80],\n",
       "       [ 81,  82,  83,  84,  85,  86,  87,  88,  89,  90],\n",
       "       [ 91,  92,  93,  94,  95,  96,  97,  98,  99, 100]])"
      ]
     },
     "execution_count": 25,
     "metadata": {},
     "output_type": "execute_result"
    }
   ],
   "source": [
    "array2.reshape(10,10)"
   ]
  },
  {
   "cell_type": "code",
   "execution_count": 28,
   "id": "db537156-f0a9-4ea6-b34b-704f45f02108",
   "metadata": {},
   "outputs": [
    {
     "data": {
      "text/plain": [
       "array([[1., 1., 1., 1.],\n",
       "       [1., 1., 1., 1.],\n",
       "       [1., 1., 1., 1.],\n",
       "       [1., 1., 1., 1.]])"
      ]
     },
     "execution_count": 28,
     "metadata": {},
     "output_type": "execute_result"
    }
   ],
   "source": [
    "#ones function\n",
    "array3=np.ones((4,4))\n",
    "array3"
   ]
  },
  {
   "cell_type": "code",
   "execution_count": 36,
   "id": "80745e01-3295-4981-9ee7-cb51f4073319",
   "metadata": {},
   "outputs": [
    {
     "data": {
      "text/plain": [
       "array([2, 9, 5, 3, 2, 3, 7, 6, 6, 3, 5, 2, 6, 5, 3, 5, 5, 3, 4, 5, 5, 9,\n",
       "       8, 4, 5, 9, 2, 1, 4, 1, 2, 5, 9, 5, 8, 3, 7, 7, 7, 1, 2, 5, 7, 9,\n",
       "       6, 9, 8, 8, 8, 8])"
      ]
     },
     "execution_count": 36,
     "metadata": {},
     "output_type": "execute_result"
    }
   ],
   "source": [
    "array4=np.random.randint(1,10,50)\n",
    "array4\n"
   ]
  },
  {
   "cell_type": "code",
   "execution_count": 37,
   "id": "1b1d10ec-c003-48bb-ae63-e5eba7f6cb66",
   "metadata": {},
   "outputs": [
    {
     "data": {
      "text/plain": [
       "array([ True, False, False, False,  True, False, False,  True,  True,\n",
       "       False, False,  True,  True, False, False, False, False, False,\n",
       "        True, False, False, False,  True,  True, False, False,  True,\n",
       "       False,  True, False,  True, False, False, False,  True, False,\n",
       "       False, False, False, False,  True, False, False, False,  True,\n",
       "       False,  True,  True,  True,  True])"
      ]
     },
     "execution_count": 37,
     "metadata": {},
     "output_type": "execute_result"
    }
   ],
   "source": [
    "modulus=array4 % 2==0\n",
    "modulus"
   ]
  },
  {
   "cell_type": "code",
   "execution_count": 38,
   "id": "85920d11-161b-40c0-b103-dbab903a4b78",
   "metadata": {},
   "outputs": [
    {
     "data": {
      "text/plain": [
       "array([ 1,  2,  3,  4,  5,  6,  7,  8,  9, 10, 11, 12, 13, 14, 15, 16, 17,\n",
       "       18, 19, 20, 21, 22, 23, 24, 25, 26, 27, 28, 29, 30, 31, 32, 33, 34,\n",
       "       35, 36, 37, 38, 39, 40, 41, 42, 43, 44, 45, 46, 47, 48, 49, 50])"
      ]
     },
     "execution_count": 38,
     "metadata": {},
     "output_type": "execute_result"
    }
   ],
   "source": [
    "array5=np.arange(1,51)\n",
    "array5"
   ]
  },
  {
   "cell_type": "code",
   "execution_count": 39,
   "id": "5f546aee-a783-4cee-8aed-c0ee1a7f1b61",
   "metadata": {},
   "outputs": [
    {
     "data": {
      "text/plain": [
       "array([ 3, 11,  8,  7,  7,  9, 14, 14, 15, 13, 16, 14, 19, 19, 18, 21, 22,\n",
       "       21, 23, 25, 26, 31, 31, 28, 30, 35, 29, 29, 33, 31, 33, 37, 42, 39,\n",
       "       43, 39, 44, 45, 46, 41, 43, 47, 50, 53, 51, 55, 55, 56, 57, 58])"
      ]
     },
     "execution_count": 39,
     "metadata": {},
     "output_type": "execute_result"
    }
   ],
   "source": [
    "sum=array4+array5\n",
    "sum"
   ]
  },
  {
   "cell_type": "code",
   "execution_count": 41,
   "id": "f420d53b-3a2f-4912-948c-3c1291a87a0b",
   "metadata": {},
   "outputs": [
    {
     "data": {
      "text/plain": [
       "array([  1,   7,   2,  -1,  -3,  -3,   0,  -2,  -3,  -7,  -6, -10,  -7,\n",
       "        -9, -12, -11, -12, -15, -15, -15, -16, -13, -15, -20, -20, -17,\n",
       "       -25, -27, -25, -29, -29, -27, -24, -29, -27, -33, -30, -31, -32,\n",
       "       -39, -39, -37, -36, -35, -39, -37, -39, -40, -41, -42])"
      ]
     },
     "execution_count": 41,
     "metadata": {},
     "output_type": "execute_result"
    }
   ],
   "source": [
    "sub=array4-array5\n",
    "sub"
   ]
  },
  {
   "cell_type": "code",
   "execution_count": 42,
   "id": "53396ab3-6259-4a98-8a3e-bf6301d7d9fb",
   "metadata": {},
   "outputs": [
    {
     "data": {
      "text/plain": [
       "array([0., 0., 0., 0., 0.])"
      ]
     },
     "execution_count": 42,
     "metadata": {},
     "output_type": "execute_result"
    }
   ],
   "source": [
    "np.zeros(5)"
   ]
  },
  {
   "cell_type": "code",
   "execution_count": 48,
   "id": "7fea3473-c0b1-4181-aa23-efd26efe8bc3",
   "metadata": {},
   "outputs": [
    {
     "data": {
      "text/plain": [
       "array([2, 3, 4, 5, 6, 7, 8, 9])"
      ]
     },
     "execution_count": 48,
     "metadata": {},
     "output_type": "execute_result"
    }
   ],
   "source": [
    "arr6=np.arange(2,10)\n",
    "x=arr6.view()\n",
    "x"
   ]
  },
  {
   "cell_type": "code",
   "execution_count": 50,
   "id": "e1d283a3-5a72-41d0-b3e1-d1bbd3dd5b7c",
   "metadata": {},
   "outputs": [
    {
     "data": {
      "text/plain": [
       "(array([6], dtype=int64),)"
      ]
     },
     "execution_count": 50,
     "metadata": {},
     "output_type": "execute_result"
    }
   ],
   "source": [
    "y=np.where(arr6==8)\n",
    "y"
   ]
  },
  {
   "cell_type": "code",
   "execution_count": 51,
   "id": "43a4cc65-14e9-4ac6-981f-0e2f83d2648c",
   "metadata": {},
   "outputs": [
    {
     "data": {
      "text/plain": [
       "array([-42, -41, -40, -39, -39, -39, -39, -37, -37, -36, -35, -33, -32,\n",
       "       -31, -30, -29, -29, -29, -27, -27, -27, -25, -25, -24, -20, -20,\n",
       "       -17, -16, -15, -15, -15, -15, -13, -12, -12, -11, -10,  -9,  -7,\n",
       "        -7,  -6,  -3,  -3,  -3,  -2,  -1,   0,   1,   2,   7])"
      ]
     },
     "execution_count": 51,
     "metadata": {},
     "output_type": "execute_result"
    }
   ],
   "source": [
    "sorting=np.sort(sub)\n",
    "sorting"
   ]
  },
  {
   "cell_type": "code",
   "execution_count": null,
   "id": "d791ac32-06df-4dde-b99f-8e2d2092aea4",
   "metadata": {},
   "outputs": [],
   "source": []
  }
 ],
 "metadata": {
  "kernelspec": {
   "display_name": "Python 3 (ipykernel)",
   "language": "python",
   "name": "python3"
  },
  "language_info": {
   "codemirror_mode": {
    "name": "ipython",
    "version": 3
   },
   "file_extension": ".py",
   "mimetype": "text/x-python",
   "name": "python",
   "nbconvert_exporter": "python",
   "pygments_lexer": "ipython3",
   "version": "3.11.4"
  }
 },
 "nbformat": 4,
 "nbformat_minor": 5
}
